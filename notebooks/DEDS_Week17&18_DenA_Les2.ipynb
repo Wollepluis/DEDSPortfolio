{
 "cells": [
  {
   "cell_type": "markdown",
   "id": "6568ccc2",
   "metadata": {},
   "source": [
    "# Data Structuren en Algoritmiek (Les1)\n",
    "## Theorie"
   ]
  },
  {
   "cell_type": "markdown",
   "id": "906881c0",
   "metadata": {},
   "source": [
    "### Datastructuren\n",
    "Een datastructuur is een manier waarop elementen in een samengestelde variabele samenhangen; ofwel: een manier om data georganiseerd op te slaan om er efficiënt mee te werken.\n",
    "\n",
    "Er zin verschillende typen datastructuren die elk geschikt zijn voor andere toepassingen.\n",
    "\n",
    "<div class=\"alert\" style=\"color: white; background-color: black\">\n",
    "\n",
    "___Bijvoorbeeld:___\n",
    "\n",
    "- __Array__\n",
    "    - Een lijst van elementen, allemaal van hetzelfde type.\n",
    "    - Toegankelijk via een index.\n",
    "    - _Voordeel:_ Heel snel om data op te halen als je weet waar het staat.\n",
    "    - _Nadeel:_ Grootte is vaak vast (statische arrays), of moeilijk aan te passen zonder extra moeite.\n",
    "\n",
    "- __Linked List__\n",
    "    - Een keten van elementen, waarbij elk element een link (pointer) heeft naar de volgende\n",
    "    - _Voordeel:_ Makkelijk om elementen toe te voegen of te verwijderen zonder alles te herschikken.\n",
    "    - _Nadeel:_ Langzamer toegang tot elementen, omdat je ze één voor één moet doorlopen.\n",
    "\n",
    "- __Stack__\n",
    "    - LIFO (Last In, First Out): het laatste element dat je erin stopt, haal je er als eerste uit.\n",
    "    - Handig bij bepaalde algoritmes, bijvoorbeeld voor het onthouden waar je bent in een taak.\n",
    "\n",
    "- __Queue__\n",
    "    - FIFO (First In, First Out): Het eerste element dat erin gaat, komt er als eerste uit.\n",
    "    - Wordt vaak gebruikt bij taken die netjes op volgorde moeten worden afgehandeld.\n",
    "\n",
    "- __Hash Table__\n",
    "    - Slaat data op als key & value, met behulp van een hashfunctie om snel iets op te zoeken.\n",
    "    - Zeer efficiënt bij zoeken, toevoegen en verwijderen\n",
    "    - Wordt vaak gebruikt in databases, caching, en impementaties van \"dictionary\"-actige structuren.\n",
    "</div>\n",
    "\n",
    "#### Persistent Datastructuur\n",
    "Een persistent datastructuur is een datastructuur die altijd bewaard blijft nadat je hem verandert. Dus als je een wijziging maakt (zoals een element toevoegen of verwijderen), dan verandert de originele datastructuur niet. In plaats daarvan krijg je een _'nieuwe'_ versie van die datastructuur terug met de wijziging. Alle eerdere versies blijven dus bestaan en zijn nog steeds toegangkelijk.\n",
    "\n",
    "<div class=\"alert\" style=\"color: white; background-color: black\">\n",
    "\n",
    "___Bijvoorbeeld:___\n",
    "\n",
    "Stel, je hebt een lijst ```[1, 2, 3]```. Als je er een element aan toevoegt, krijg je bijvoorbeeld ```[1, 2, 3, 4]```, maar de originele lijst ```[1, 2, 3]``` blijft gewoon bestaan.\n",
    "\n",
    "</div>\n",
    "\n",
    "Persistent datastructuren zijn handig als je data en versies wilt bijhouden, bijvoorbeeld in functioneel programmeren of in apps die geschiedenis bijhouden (denk aan undo-functies).\n",
    "\n",
    "#### Ephemeral Datatstructuur\n",
    "Een ephemeral datastructuur is het tegenovergestelde van een Persistent datastructuur. Deze datastructuur veranderd __direct__ als je een bewerking uitvoert. Dus als je iets toevoegt of verwijdert, wordt de ___originiele___ database aangepast.\n",
    "\n",
    "<div class=\"alert\" style=\"color: white; background-color: black\">\n",
    "\n",
    "___Bijvoorbeeld:___\n",
    "\n",
    "Stel, je hebt een lijst ```[1, 2, 3]```. Als je er een element aan toevoegt, wordt de lijst direct ```[1, 2, 3, 4]```. De originele lijst is niet meer beschikbaar.\n",
    "\n",
    "</div>\n",
    "\n",
    "Ephemeral datastructuren zijn makkelijker en sneller in gebruik, want je wijzigt gewoon direct, wat efficiënt is als je niet om oude versies geeft."
   ]
  },
  {
   "cell_type": "markdown",
   "id": "09a0a4f3",
   "metadata": {},
   "source": [
    "## Singly-linked list\n",
    "Een singly-linked list is de simpelste type 'linked-list', waarin elke node iets aan data, en een referentie naar de volgende node bevat. slingly-linked lists kunnen enkel in één richting op worden genavigeert - van de head (de eerste node) naar de tail (de laatste node). Om deze reden is deze structuur - met een tijdscomplexiteit van $O(n)$ - niet geschikt voor lange lijsten."
   ]
  },
  {
   "cell_type": "markdown",
   "id": "da25ee6e",
   "metadata": {},
   "source": [
    "### Initializeren van de node"
   ]
  },
  {
   "cell_type": "code",
   "execution_count": 19,
   "id": "3a5e23d6",
   "metadata": {},
   "outputs": [],
   "source": [
    "class Node:\n",
    "    def __init__(self, data):\n",
    "        self.data = data # Wijst de gegeven data toe aan de node.\n",
    "        self.next = None # Initialiseert het volgende attribuut als 'NULL'."
   ]
  },
  {
   "cell_type": "markdown",
   "id": "368b6b44",
   "metadata": {},
   "source": [
    "Hierboven worden twee acties uitgevoerd:\n",
    "\n",
    "- Het ```data``` attribuut van de node heeft een waarde die de data van die node representeerd.\n",
    "- Het ```next``` attribuut representeerd de volgende node. Deze staat momenteel op 'None'. Naarmate er nodes aan de lijst worden toegevoegd wordt de variabele geüpdate om naar de volgende node te wijzen"
   ]
  },
  {
   "cell_type": "markdown",
   "id": "3d00f616",
   "metadata": {},
   "source": [
    "### De LinkedList class"
   ]
  },
  {
   "cell_type": "code",
   "execution_count": 20,
   "id": "046bd79f",
   "metadata": {},
   "outputs": [],
   "source": [
    "class LinkedList:\n",
    "    def __init__(self):\n",
    "        self.head = None # Initialiseert de head als 'None'.\n",
    "\n",
    "    def insertAtBeginning(self, new_data):\n",
    "        new_node = Node(new_data) # Creëer een nieuwe node.\n",
    "        new_node.next = self.head # De volgende nieuwe node wordt de huidige 'head' van de lijst.\n",
    "        self.head = new_node # 'Head' verwijst nu naar de nieuwe node.\n",
    "\n",
    "    def insertAtEnd(self, new_data):\n",
    "        new_node = Node(new_data) # Creëer een nieuwe node.\n",
    "\n",
    "        if self.head is None:\n",
    "            self.head = new_node # Als de lijst helemaal leeg is, maak de nieuwe node de 'head'.\n",
    "            return\n",
    "\n",
    "        last = self.head\n",
    "        while last.next: # Zoek de laatste node.\n",
    "            last = last.next\n",
    "\n",
    "        last.next = new_node # Maak de nieuwe node, de 'next' node van de laatse node.\n",
    "\n",
    "    def deleteFromBeginning(self):\n",
    "        if self.head is None:\n",
    "            return \"De lijst is leeg.\"\n",
    "        \n",
    "        self.head = self.head.next # Verwijder de 'head' node door de 'next' van die node de 'head' node te maken.\n",
    "\n",
    "    def deleteFromEnd(self):\n",
    "        if self.head is None:\n",
    "            return \"De lijst is leeg\"\n",
    "        \n",
    "        if self.head.next is None:\n",
    "            self.head = None # Als er maar één node is, verwijder deze door de 'head' 'None' te maken.\n",
    "            return\n",
    "        \n",
    "        temp = self.head\n",
    "        while temp.next.next: # Zoek de twee-na-laatste node\n",
    "            temp = temp.next\n",
    "        temp.next = None # Verwijder de laatste node door de 'next' van de twee-na-laatste node naar 'None' te zetten.\n",
    "\n",
    "    def search(self, value):\n",
    "        current = self.head\n",
    "        \n",
    "        position = 0  \n",
    "        while current:\n",
    "            if current.data == value:\n",
    "                return f\"'{value}' gevonden op positie {position}\"\n",
    "            current = current.next\n",
    "            position += 1\n",
    "        \n",
    "        return f\"'{value}' staat niet in de lijst\" \n",
    "\n",
    "    def deleteList(self):\n",
    "        def _delete_List(node):\n",
    "            if node is None:\n",
    "                return\n",
    "\n",
    "            _delete_List(node.next)\n",
    "            node.next = None\n",
    "        \n",
    "        _delete_List(self.head)\n",
    "        self.head = None\n",
    "\n",
    "    def printList(self):\n",
    "        temp = self.head # Start vanaf de 'head' van de list.\n",
    "        while temp:\n",
    "            print(temp.data, end=' ') # Print de data die de huidige node bevat.\n",
    "            temp = temp.next # Naar de volgende node.\n",
    "        print() # Zorgt ervoor dat de output wordt gevolgd door een lege regel.\n"
   ]
  },
  {
   "cell_type": "markdown",
   "id": "a05138cc",
   "metadata": {},
   "source": [
    "Door ```self.head``` in ```def __init__(self)``` 'None' te maken zorgen we ervoor dat de lijst 'leeg' initialiseerd zonder nodes om naartoe te wijzen.\n",
    "***\n",
    "Elke keer dat ```def insertAtBeginning``` wordt aangeroepen, wordt er een nieuwe node gecreëerd met de gespecificeerde data.\n",
    "***\n",
    "De method ```def insertAtEnd``` creëert een nieuwe node en checkt of de lijst leeg is.\n",
    "- Zo ja: Maakt de nieuwe node de 'head' van de lijst.\n",
    "- Zo nee: Zoekt de laatste node in de lijst en maakt de nieuwe node de 'next' node."
   ]
  },
  {
   "cell_type": "markdown",
   "id": "558d7edc",
   "metadata": {},
   "source": [
    "### Creëeren van de lijst"
   ]
  },
  {
   "cell_type": "code",
   "execution_count": 21,
   "id": "0bc33418",
   "metadata": {},
   "outputs": [
    {
     "name": "stdout",
     "output_type": "stream",
     "text": [
      "Lijst vóór het verwijderen:\n",
      "de dikke bolle olifant zinkt \n",
      "\n",
      "Lijst na verwijderen:\n",
      "dikke bolle olifant \n",
      "\n",
      "'dikke' gevonden op positie 0\n",
      "'olifant' gevonden op positie 2\n",
      "\n",
      "Hele lijst verwijderd:\n",
      "\n"
     ]
    }
   ],
   "source": [
    "if __name__ == '__main__':\n",
    "    # Creëer een nieuwe LinkedList instance\n",
    "    llist = LinkedList()\n",
    "\n",
    "    # Zet elke string aan het begin van de lijst m.b.v. de 'insertAtBeginning' method.\n",
    "    llist.insertAtBeginning('olifant')\n",
    "    llist.insertAtBeginning('bolle')\n",
    "    llist.insertAtBeginning('dikke')\n",
    "    llist.insertAtBeginning('de')\n",
    "\n",
    "    # Zet elke string aan het einde van de lijst m.b.v. de 'insertAtEnd' method.\n",
    "    llist.insertAtEnd('zinkt')\n",
    "\n",
    "    # Print de lijst\n",
    "    print(\"Lijst vóór het verwijderen:\")\n",
    "    llist.printList()\n",
    "    print()\n",
    "\n",
    "    # Deleting nodes from the beginning and end\n",
    "    llist.deleteFromBeginning()\n",
    "    llist.deleteFromEnd()\n",
    "\n",
    "    # Print de lijst na selectief verwijderen\n",
    "    print(\"Lijst na verwijderen:\")\n",
    "    llist.printList()\n",
    "    print()\n",
    "\n",
    "    # Zoek de waardes en print op welke positie ze in de lijst staan\n",
    "    print(llist.search('dikke'))\n",
    "    print(llist.search('olifant'))\n",
    "    print()\n",
    "\n",
    "    # Print de hele lijst na alles te verwijderen (niks dus)\n",
    "    print(\"Hele lijst verwijderd:\")\n",
    "    llist.deleteList()\n",
    "    llist.printList() # Zou niks moeten printen"
   ]
  }
 ],
 "metadata": {
  "kernelspec": {
   "display_name": ".venv",
   "language": "python",
   "name": "python3"
  },
  "language_info": {
   "codemirror_mode": {
    "name": "ipython",
    "version": 3
   },
   "file_extension": ".py",
   "mimetype": "text/x-python",
   "name": "python",
   "nbconvert_exporter": "python",
   "pygments_lexer": "ipython3",
   "version": "3.13.4"
  }
 },
 "nbformat": 4,
 "nbformat_minor": 5
}
