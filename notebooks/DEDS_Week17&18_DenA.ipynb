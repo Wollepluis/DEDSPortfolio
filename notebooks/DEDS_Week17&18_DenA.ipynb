{
 "cells": [
  {
   "cell_type": "markdown",
   "id": "2c7e543b",
   "metadata": {},
   "source": [
    "# Data Structuren en Algoritmiek\n",
    "## Theorie"
   ]
  },
  {
   "cell_type": "markdown",
   "id": "9f99da7e",
   "metadata": {},
   "source": [
    "### Logaritme\n",
    "Een logaritme is het omgekeerde van machtsverheffing. Deze worden gebruikt om grote getallen te verwerken (in o.a. de wiskunde, natuurkunde, en informatica) en om groeiprocessen de exponentieel zijn beter te begrijpen.\n",
    "<div class=\"alert\" style=\"color: white; background-color: black\">\n",
    "\n",
    "___Bijvoorbeeld:___\n",
    "\n",
    "$a^{x} = b$\n",
    "\n",
    "Om het antwoord te krijgen op de vraag \"Tot welke macht (x) moet ik 'a' verheffen om 'b' te krijgen?\" gebruik je de logaritme:\n",
    "\n",
    "$log_{a}(b) = x$\n",
    "</div>"
   ]
  },
  {
   "cell_type": "markdown",
   "id": "3d0e6cf2",
   "metadata": {},
   "source": [
    "\n",
    "### Algoritme\n",
    "Een algoritme is een stappenplan om een probleem op te lossen of een taak uit te voeren."
   ]
  },
  {
   "cell_type": "markdown",
   "id": "31df2624",
   "metadata": {},
   "source": [
    "### Recursief programmeren\n",
    "Een manier van programmeren waarbij een functie zichzelf aanroept om een probleem op te lossen. Hieronder is een recursieve functie weergegeven:"
   ]
  },
  {
   "cell_type": "code",
   "execution_count": 1,
   "id": "b2f5404d",
   "metadata": {},
   "outputs": [
    {
     "name": "stdout",
     "output_type": "stream",
     "text": [
      "120\n"
     ]
    }
   ],
   "source": [
    "def faculteit(n):\n",
    "    if n == 0:\n",
    "        return 1  # basisgeval\n",
    "    else:\n",
    "        return n * faculteit(n - 1)  # recursieve stap\n",
    "\n",
    "print(faculteit(5))  # Output: 120"
   ]
  },
  {
   "cell_type": "markdown",
   "id": "07f1ff46",
   "metadata": {},
   "source": [
    "### Tijdscomplexiteit\n",
    "De tijdscomplexiteit van een algoritme beschrijft hoe snel de uitvoeringstijd toeneemt naarmate de input groter wordt. Dit wordt aangegeven met de 'Big-O-notation'."
   ]
  },
  {
   "cell_type": "markdown",
   "id": "e8fefbcf",
   "metadata": {},
   "source": [
    "### Big-O-Notation\n",
    "De Big-O-notation beschrijft hoe snel een algoritme groeit, relatief aan de inputgrootte '$n$', als '$n$' steeds groter wordt.\n",
    "Hiermee wordt niet de tijd in seconden bedoeld, maar hoe erg de rekentijd veranderd als de inputwordt verdubbelt.\n",
    "\n",
    "| Notatie| Uitleg | Voorbeeld |\n",
    "| --- | --- | --- |\n",
    "| $O(1)$ | Contante tijd - snelheid veranderd niet met $n$ | Toegang tot lijst-element via index |\n",
    "| $O(log (n)$) | Logaritmisch – verdelen & veroveren | Binary search |\n",
    "| $O(n)$ | Lineair – 1 bewerking per item\t | Eén keer door een lijst lopen |\n",
    "| $O(nlog(n))$ | Redelijk efficiënt sorteren | Merge sort, quicksort |\n",
    "| $O(n^{2})$ | Slecht schaalbaar bij grote data | Bubble sort, nested loops |\n",
    "| $O(2^{n})$ | Exponentieel – extreem traag | Brute-force combinaties (zoals bij backtracking) |\n",
    "| $O(n!)$ | Factorieel – onwerkbaar bij grote $n$ | Permutaties genereren (zoals bij brute-force traveling salesman) |\n",
    "<div class=\"alert\" style=\"color: white; background-color: black\">\n",
    "\n",
    "___Bijvoorbeeld:___\n",
    "\n",
    "Stel je hebt 1.000.000 items\n",
    "- Een algoritme net $O(n)$ doet ongeveer 1.000.000 bewerkingen.\n",
    "- Een algoritme met $O(n^{2})$ doet ongeveer 1 biljoen bewerkingen.\n",
    "- Een algoritme met $O(log(n))$ doet maar ongeveer 20 bewerkingen.\n",
    "\n",
    "</div>\n",
    "\n",
    "Echter sommige dingen tellen niet mee in een Big-O\n",
    "- Je negeert constanten: \n",
    "> $O(5n)$ wordt $O(n)$\n",
    "- Je kijkt alleen naar de grootste groeifactor:\n",
    "> $O(n^{2} + n)$ wordt $O(n^{2})$\n"
   ]
  },
  {
   "cell_type": "markdown",
   "id": "db7325a0",
   "metadata": {},
   "source": [
    "## Opdrachten\n",
    "***\n",
    "1. $log_{2}(1) =$<br>\n",
    "a) $0$<br>\n",
    "b) $1/2$<br>\n",
    "c) $1$<br>\n",
    "d) $2$<br>\n",
    "\n",
    "_antwoord:_\n",
    "> a) $log_{2}(1) = 0$\n",
    "***\n",
    "2. $log_{2}(2) =$<br>\n",
    "a) $0$<br>\n",
    "b) $1/2$<br>\n",
    "c) $1$<br>\n",
    "d) $2$<br>\n",
    "\n",
    "_antwoord:_\n",
    "> c) $log_{2}(2) = 1$\n",
    "***\n",
    "3. $log_{2}(4) =$<br>\n",
    "a) $0$<br>\n",
    "b) $1/2$<br>\n",
    "c) $1$<br>\n",
    "d) $2$<br>\n",
    "\n",
    "_antwoord:_\n",
    "> d) $log_{2}(4) = 2$\n",
    "***\n",
    "4. $log_{4}(2) =$<br>\n",
    "a) $0$<br>\n",
    "b) $1/2$<br>\n",
    "c) $1$<br>\n",
    "d) $2$<br>\n",
    "\n",
    "_antwoord:_\n",
    "> b) $log_{4}(2) = 1/2$\n",
    "***\n",
    "5. $n + 2 =$<br>\n",
    "a) $O(1)$<br>\n",
    "b) $O(n)$<br>\n",
    "c) $O(n + 2)$<br>\n",
    "d) $O(n^2)$<br>\n",
    "\n",
    "_antwoord:_\n",
    "> \n",
    "***\n",
    "6. Wat is de kleinste $g(n)$ waarvoor geldt $n^{2} + n^{3} = O(g(n))$?<br>\n",
    "a) $g(n) = n^2$<br>\n",
    "b) $g(n) = n^3$<br>\n",
    "c) $g(n) = n^2 + n^3$<br>\n",
    "d) $g(n) = n^5$<br>\n",
    "\n",
    "_antwoord:_\n",
    "> \n",
    "***\n",
    "7. Wat is de kleinste $g(n)$ waarvoor geldt $3n^{2} + 5 = O(g(n))$?<br>\n",
    "a) $g(n) = n^2$<br>\n",
    "b) $g(n) = 3n^2$<br>\n",
    "c) $g(n) = n^2 + 5$<br>\n",
    "d) $g(n) = 3n^2 + 5$<br>\n",
    "\n",
    "_antwoord:_\n",
    "> \n",
    "***\n",
    "8. Wat is de kleinste $g(n)$ waarvoor geldt $log_{3}n = O(g(n))$?<br>\n",
    "a) $g(n) = log_{1}(n)$<br>\n",
    "b) $g(n) = log_{2}(n)$<br>\n",
    "c) $g(n) = log_{3}(n)$<br>\n",
    "d) $g(n) = log_{4}(n)$<br>\n",
    "\n",
    "_antwoord:_\n",
    "> \n",
    "***\n",
    "9. Wat is de kleinste $g(n)$ waarvoor geldt $10000000n + n^{1.2} = O(g(n))$?<br>\n",
    "a) $g(n) = 10000000n$<br>\n",
    "b) $g(n) = 20000000n$<br>\n",
    "c) $g(n) = n^{2}$<br>\n",
    "d) $g(n) = 10000000n + n^{1.1}$<br>\n",
    "\n",
    "_antwoord:_\n",
    "> "
   ]
  }
 ],
 "metadata": {
  "kernelspec": {
   "display_name": ".venv",
   "language": "python",
   "name": "python3"
  },
  "language_info": {
   "codemirror_mode": {
    "name": "ipython",
    "version": 3
   },
   "file_extension": ".py",
   "mimetype": "text/x-python",
   "name": "python",
   "nbconvert_exporter": "python",
   "pygments_lexer": "ipython3",
   "version": "3.13.4"
  }
 },
 "nbformat": 4,
 "nbformat_minor": 5
}
