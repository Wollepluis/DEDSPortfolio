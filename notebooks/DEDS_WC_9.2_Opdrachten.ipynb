{
 "cells": [
  {
   "cell_type": "markdown",
   "id": "19d91c5a",
   "metadata": {},
   "source": [
    "## Importeren van Bibliotheken"
   ]
  },
  {
   "cell_type": "code",
   "execution_count": 3,
   "id": "52f0bcb9",
   "metadata": {},
   "outputs": [],
   "source": [
    "import pandas\n",
    "import numpy\n",
    "import sqlite3 as sql\n",
    "import matplotlib.pyplot as plt\n",
    "import random\n",
    "from sklearn.tree import DecisionTreeClassifier\n",
    "from sklearn import linear_model\n",
    "from sklearn import tree\n",
    "from sklearn import metrics\n",
    "from sklearn.linear_model import LinearRegression\n",
    "from sklearn.model_selection import train_test_split\n",
    "from sklearn.metrics import mean_squared_error, mean_absolute_error"
   ]
  },
  {
   "cell_type": "markdown",
   "id": "fb75ff03",
   "metadata": {},
   "source": [
    "## Inlezen van de Data"
   ]
  },
  {
   "cell_type": "code",
   "execution_count": 4,
   "id": "74de140f",
   "metadata": {},
   "outputs": [
    {
     "name": "stdout",
     "output_type": "stream",
     "text": [
      "<sqlite3.Connection object at 0x000001DD343571F0>\n"
     ]
    }
   ],
   "source": [
    "conn = sql.connect(\"../data/go_sales_train.sqlite\")\n",
    "print(conn)"
   ]
  },
  {
   "cell_type": "markdown",
   "id": "7a247b38",
   "metadata": {},
   "source": [
    "## Aanmaken van de dataframe"
   ]
  },
  {
   "cell_type": "code",
   "execution_count": 5,
   "id": "0f47804d",
   "metadata": {},
   "outputs": [
    {
     "data": {
      "text/plain": [
       "0           country\n",
       "1     order_details\n",
       "2      order_header\n",
       "3      order_method\n",
       "4           product\n",
       "5      product_line\n",
       "6      product_type\n",
       "7     retailer_site\n",
       "8     return_reason\n",
       "9     returned_item\n",
       "10     sales_branch\n",
       "11      sales_staff\n",
       "Name: name, dtype: object"
      ]
     },
     "execution_count": 5,
     "metadata": {},
     "output_type": "execute_result"
    }
   ],
   "source": [
    "tables_query = \"SELECT name FROM sqlite_master WHERE type='table';\"\n",
    "table_names = pandas.read_sql(tables_query, conn)['name']\n",
    "\n",
    "def get_dataframe(table_name):\n",
    "    dataframe = pandas.read_sql(f\"SELECT * FROM {table_name}\", conn)\n",
    "    return dataframe\n",
    "\n",
    "table_names"
   ]
  },
  {
   "cell_type": "markdown",
   "id": "e07a7a36",
   "metadata": {},
   "source": [
    "## Aanmaken van de dataframes & Kolommen selecteren"
   ]
  },
  {
   "cell_type": "code",
   "execution_count": 6,
   "id": "638d6f96",
   "metadata": {},
   "outputs": [
    {
     "data": {
      "text/html": [
       "<div>\n",
       "<style scoped>\n",
       "    .dataframe tbody tr th:only-of-type {\n",
       "        vertical-align: middle;\n",
       "    }\n",
       "\n",
       "    .dataframe tbody tr th {\n",
       "        vertical-align: top;\n",
       "    }\n",
       "\n",
       "    .dataframe thead th {\n",
       "        text-align: right;\n",
       "    }\n",
       "</style>\n",
       "<table border=\"1\" class=\"dataframe\">\n",
       "  <thead>\n",
       "    <tr style=\"text-align: right;\">\n",
       "      <th></th>\n",
       "      <th>SALES_BRANCH_CODE</th>\n",
       "      <th>RETURN_REASON_CODE</th>\n",
       "      <th>UNIT_PRICE</th>\n",
       "    </tr>\n",
       "  </thead>\n",
       "  <tbody>\n",
       "    <tr>\n",
       "      <th>6</th>\n",
       "      <td>18</td>\n",
       "      <td>3.0</td>\n",
       "      <td>6.59</td>\n",
       "    </tr>\n",
       "    <tr>\n",
       "      <th>18</th>\n",
       "      <td>18</td>\n",
       "      <td>2.0</td>\n",
       "      <td>12.53</td>\n",
       "    </tr>\n",
       "    <tr>\n",
       "      <th>30</th>\n",
       "      <td>18</td>\n",
       "      <td>2.0</td>\n",
       "      <td>7.32</td>\n",
       "    </tr>\n",
       "    <tr>\n",
       "      <th>39</th>\n",
       "      <td>18</td>\n",
       "      <td>3.0</td>\n",
       "      <td>54.93</td>\n",
       "    </tr>\n",
       "    <tr>\n",
       "      <th>46</th>\n",
       "      <td>18</td>\n",
       "      <td>4.0</td>\n",
       "      <td>129.72</td>\n",
       "    </tr>\n",
       "    <tr>\n",
       "      <th>...</th>\n",
       "      <td>...</td>\n",
       "      <td>...</td>\n",
       "      <td>...</td>\n",
       "    </tr>\n",
       "    <tr>\n",
       "      <th>37631</th>\n",
       "      <td>30</td>\n",
       "      <td>2.0</td>\n",
       "      <td>529.98</td>\n",
       "    </tr>\n",
       "    <tr>\n",
       "      <th>37656</th>\n",
       "      <td>30</td>\n",
       "      <td>1.0</td>\n",
       "      <td>13.50</td>\n",
       "    </tr>\n",
       "    <tr>\n",
       "      <th>37657</th>\n",
       "      <td>30</td>\n",
       "      <td>2.0</td>\n",
       "      <td>15.00</td>\n",
       "    </tr>\n",
       "    <tr>\n",
       "      <th>37686</th>\n",
       "      <td>30</td>\n",
       "      <td>1.0</td>\n",
       "      <td>20.00</td>\n",
       "    </tr>\n",
       "    <tr>\n",
       "      <th>37700</th>\n",
       "      <td>30</td>\n",
       "      <td>4.0</td>\n",
       "      <td>11.98</td>\n",
       "    </tr>\n",
       "  </tbody>\n",
       "</table>\n",
       "<p>619 rows × 3 columns</p>\n",
       "</div>"
      ],
      "text/plain": [
       "       SALES_BRANCH_CODE  RETURN_REASON_CODE  UNIT_PRICE\n",
       "6                     18                 3.0        6.59\n",
       "18                    18                 2.0       12.53\n",
       "30                    18                 2.0        7.32\n",
       "39                    18                 3.0       54.93\n",
       "46                    18                 4.0      129.72\n",
       "...                  ...                 ...         ...\n",
       "37631                 30                 2.0      529.98\n",
       "37656                 30                 1.0       13.50\n",
       "37657                 30                 2.0       15.00\n",
       "37686                 30                 1.0       20.00\n",
       "37700                 30                 4.0       11.98\n",
       "\n",
       "[619 rows x 3 columns]"
      ]
     },
     "execution_count": 6,
     "metadata": {},
     "output_type": "execute_result"
    }
   ],
   "source": [
    "df_order_header = get_dataframe('order_header')\n",
    "df_order_details = get_dataframe('order_details')\n",
    "df_returned_item = get_dataframe('returned_item')\n",
    "df_return_reason = get_dataframe('return_reason')\n",
    "\n",
    "merged_dataframe = pandas.merge(\n",
    "    df_order_details,\n",
    "    df_order_header[['ORDER_NUMBER', 'SALES_BRANCH_CODE']],\n",
    "    on='ORDER_NUMBER',\n",
    "    how='left'\n",
    ")\n",
    "\n",
    "merged_dataframe = pandas.merge(\n",
    "    merged_dataframe,\n",
    "    df_returned_item[['ORDER_DETAIL_CODE', 'RETURN_QUANTITY', 'RETURN_REASON_CODE']],\n",
    "    on='ORDER_DETAIL_CODE',\n",
    "    how='left'\n",
    ")\n",
    "\n",
    "merged_dataframe = pandas.merge(\n",
    "    merged_dataframe,\n",
    "    df_return_reason,\n",
    "    on='RETURN_REASON_CODE',\n",
    "    how='left'\n",
    ")\n",
    "\n",
    "merged_dataframe['RETURN_REASON_CODE'] = merged_dataframe['RETURN_REASON_CODE'].dropna()\n",
    "\n",
    "model_dataframe = merged_dataframe.loc[:,['SALES_BRANCH_CODE', 'RETURN_REASON_CODE', 'UNIT_PRICE']]\n",
    "model_dataframe = model_dataframe.dropna()\n",
    "model_dataframe"
   ]
  },
  {
   "cell_type": "code",
   "execution_count": 7,
   "id": "07dc4781",
   "metadata": {},
   "outputs": [
    {
     "data": {
      "text/plain": [
       "SALES_BRANCH_CODE       int64\n",
       "RETURN_REASON_CODE    float64\n",
       "UNIT_PRICE            float64\n",
       "dtype: object"
      ]
     },
     "execution_count": 7,
     "metadata": {},
     "output_type": "execute_result"
    }
   ],
   "source": [
    "model_dataframe.dtypes"
   ]
  },
  {
   "cell_type": "markdown",
   "id": "99bb96f5",
   "metadata": {},
   "source": [
    "## Horizontaal en verticaal snijden"
   ]
  },
  {
   "cell_type": "code",
   "execution_count": 8,
   "id": "ab65d2bf",
   "metadata": {},
   "outputs": [
    {
     "data": {
      "text/html": [
       "<div>\n",
       "<style scoped>\n",
       "    .dataframe tbody tr th:only-of-type {\n",
       "        vertical-align: middle;\n",
       "    }\n",
       "\n",
       "    .dataframe tbody tr th {\n",
       "        vertical-align: top;\n",
       "    }\n",
       "\n",
       "    .dataframe thead th {\n",
       "        text-align: right;\n",
       "    }\n",
       "</style>\n",
       "<table border=\"1\" class=\"dataframe\">\n",
       "  <thead>\n",
       "    <tr style=\"text-align: right;\">\n",
       "      <th></th>\n",
       "      <th>SALES_BRANCH_CODE</th>\n",
       "      <th>UNIT_PRICE</th>\n",
       "    </tr>\n",
       "  </thead>\n",
       "  <tbody>\n",
       "    <tr>\n",
       "      <th>6</th>\n",
       "      <td>18</td>\n",
       "      <td>6.59</td>\n",
       "    </tr>\n",
       "    <tr>\n",
       "      <th>18</th>\n",
       "      <td>18</td>\n",
       "      <td>12.53</td>\n",
       "    </tr>\n",
       "    <tr>\n",
       "      <th>30</th>\n",
       "      <td>18</td>\n",
       "      <td>7.32</td>\n",
       "    </tr>\n",
       "    <tr>\n",
       "      <th>39</th>\n",
       "      <td>18</td>\n",
       "      <td>54.93</td>\n",
       "    </tr>\n",
       "    <tr>\n",
       "      <th>46</th>\n",
       "      <td>18</td>\n",
       "      <td>129.72</td>\n",
       "    </tr>\n",
       "    <tr>\n",
       "      <th>...</th>\n",
       "      <td>...</td>\n",
       "      <td>...</td>\n",
       "    </tr>\n",
       "    <tr>\n",
       "      <th>37631</th>\n",
       "      <td>30</td>\n",
       "      <td>529.98</td>\n",
       "    </tr>\n",
       "    <tr>\n",
       "      <th>37656</th>\n",
       "      <td>30</td>\n",
       "      <td>13.50</td>\n",
       "    </tr>\n",
       "    <tr>\n",
       "      <th>37657</th>\n",
       "      <td>30</td>\n",
       "      <td>15.00</td>\n",
       "    </tr>\n",
       "    <tr>\n",
       "      <th>37686</th>\n",
       "      <td>30</td>\n",
       "      <td>20.00</td>\n",
       "    </tr>\n",
       "    <tr>\n",
       "      <th>37700</th>\n",
       "      <td>30</td>\n",
       "      <td>11.98</td>\n",
       "    </tr>\n",
       "  </tbody>\n",
       "</table>\n",
       "<p>619 rows × 2 columns</p>\n",
       "</div>"
      ],
      "text/plain": [
       "       SALES_BRANCH_CODE  UNIT_PRICE\n",
       "6                     18        6.59\n",
       "18                    18       12.53\n",
       "30                    18        7.32\n",
       "39                    18       54.93\n",
       "46                    18      129.72\n",
       "...                  ...         ...\n",
       "37631                 30      529.98\n",
       "37656                 30       13.50\n",
       "37657                 30       15.00\n",
       "37686                 30       20.00\n",
       "37700                 30       11.98\n",
       "\n",
       "[619 rows x 2 columns]"
      ]
     },
     "execution_count": 8,
     "metadata": {},
     "output_type": "execute_result"
    }
   ],
   "source": [
    "# X = model_dataframe.loc[model_dataframe['SALES_BRANCH_CODE'].notna(), :]\n",
    "# X = X.drop(['SALES_BRANCH_CODE', 'UNIT_PRICE'], axis = 1)\n",
    "# y = model_dataframe.loc[model_dataframe['SALES_BRANCH_CODE'].notna(), ['SALES_BRANCH_CODE', 'UNIT_PRICE']]\n",
    "# y.info()\n",
    "\n",
    "X = model_dataframe.drop('RETURN_REASON_CODE', axis = 1)\n",
    "y = model_dataframe.loc[:, ['RETURN_REASON_CODE', ]]\n",
    "X"
   ]
  },
  {
   "cell_type": "code",
   "execution_count": 9,
   "id": "694e2843",
   "metadata": {},
   "outputs": [],
   "source": [
    "X_train, X_test, y_train, y_test = train_test_split(\n",
    "    X, \n",
    "    y, \n",
    "    test_size=0.15, \n",
    "    random_state=42\n",
    ")"
   ]
  },
  {
   "cell_type": "markdown",
   "id": "0840ef2e",
   "metadata": {},
   "source": [
    "## Regressiemodel bouwen"
   ]
  },
  {
   "cell_type": "code",
   "execution_count": 10,
   "id": "cc0d75dd",
   "metadata": {},
   "outputs": [
    {
     "data": {
      "text/plain": [
       "['RETURN_REASON_CODE']"
      ]
     },
     "execution_count": 10,
     "metadata": {},
     "output_type": "execute_result"
    }
   ],
   "source": [
    "list(y.columns)"
   ]
  },
  {
   "cell_type": "code",
   "execution_count": 11,
   "id": "9d5cf3a5",
   "metadata": {},
   "outputs": [
    {
     "data": {
      "image/png": "[encoded data removed]",
      "text/plain": [
       "<Figure size 640x480 with 1 Axes>"
      ]
     },
     "metadata": {},
     "output_type": "display_data"
    }
   ],
   "source": [
    "dtree = DecisionTreeClassifier(max_depth = 2)\n",
    "dtree = dtree.fit(X_train, y_train)\n",
    "tree.plot_tree(dtree, feature_names = X.columns)\n",
    "plt.show()"
   ]
  },
  {
   "cell_type": "code",
   "execution_count": 12,
   "id": "5a262d22",
   "metadata": {},
   "outputs": [
    {
     "data": {
      "text/html": [
       "<div>\n",
       "<style scoped>\n",
       "    .dataframe tbody tr th:only-of-type {\n",
       "        vertical-align: middle;\n",
       "    }\n",
       "\n",
       "    .dataframe tbody tr th {\n",
       "        vertical-align: top;\n",
       "    }\n",
       "\n",
       "    .dataframe thead th {\n",
       "        text-align: right;\n",
       "    }\n",
       "</style>\n",
       "<table border=\"1\" class=\"dataframe\">\n",
       "  <thead>\n",
       "    <tr style=\"text-align: right;\">\n",
       "      <th></th>\n",
       "      <th>RETURN_REASON_CODE</th>\n",
       "      <th>Predicted_Reason</th>\n",
       "    </tr>\n",
       "  </thead>\n",
       "  <tbody>\n",
       "    <tr>\n",
       "      <th>0</th>\n",
       "      <td>3.0</td>\n",
       "      <td>1.0</td>\n",
       "    </tr>\n",
       "    <tr>\n",
       "      <th>1</th>\n",
       "      <td>3.0</td>\n",
       "      <td>1.0</td>\n",
       "    </tr>\n",
       "    <tr>\n",
       "      <th>2</th>\n",
       "      <td>1.0</td>\n",
       "      <td>1.0</td>\n",
       "    </tr>\n",
       "    <tr>\n",
       "      <th>3</th>\n",
       "      <td>1.0</td>\n",
       "      <td>1.0</td>\n",
       "    </tr>\n",
       "    <tr>\n",
       "      <th>4</th>\n",
       "      <td>1.0</td>\n",
       "      <td>1.0</td>\n",
       "    </tr>\n",
       "    <tr>\n",
       "      <th>...</th>\n",
       "      <td>...</td>\n",
       "      <td>...</td>\n",
       "    </tr>\n",
       "    <tr>\n",
       "      <th>88</th>\n",
       "      <td>2.0</td>\n",
       "      <td>1.0</td>\n",
       "    </tr>\n",
       "    <tr>\n",
       "      <th>89</th>\n",
       "      <td>1.0</td>\n",
       "      <td>1.0</td>\n",
       "    </tr>\n",
       "    <tr>\n",
       "      <th>90</th>\n",
       "      <td>1.0</td>\n",
       "      <td>1.0</td>\n",
       "    </tr>\n",
       "    <tr>\n",
       "      <th>91</th>\n",
       "      <td>1.0</td>\n",
       "      <td>1.0</td>\n",
       "    </tr>\n",
       "    <tr>\n",
       "      <th>92</th>\n",
       "      <td>2.0</td>\n",
       "      <td>1.0</td>\n",
       "    </tr>\n",
       "  </tbody>\n",
       "</table>\n",
       "<p>93 rows × 2 columns</p>\n",
       "</div>"
      ],
      "text/plain": [
       "    RETURN_REASON_CODE  Predicted_Reason\n",
       "0                  3.0               1.0\n",
       "1                  3.0               1.0\n",
       "2                  1.0               1.0\n",
       "3                  1.0               1.0\n",
       "4                  1.0               1.0\n",
       "..                 ...               ...\n",
       "88                 2.0               1.0\n",
       "89                 1.0               1.0\n",
       "90                 1.0               1.0\n",
       "91                 1.0               1.0\n",
       "92                 2.0               1.0\n",
       "\n",
       "[93 rows x 2 columns]"
      ]
     },
     "execution_count": 12,
     "metadata": {},
     "output_type": "execute_result"
    }
   ],
   "source": [
    "predicted_df = pandas.DataFrame(dtree.predict(X_test))\n",
    "predicted_df = predicted_df.rename(columns = {0 : 'Predicted_Reason'})\n",
    "model_results_frame = pandas.concat([y_test.reset_index()['RETURN_REASON_CODE'], predicted_df], axis = 1)\n",
    "model_results_frame"
   ]
  },
  {
   "cell_type": "code",
   "execution_count": 13,
   "id": "847b116e",
   "metadata": {},
   "outputs": [
    {
     "data": {
      "image/png": "[encoded data removed]",
      "text/plain": [
       "<Figure size 640x480 with 2 Axes>"
      ]
     },
     "metadata": {},
     "output_type": "display_data"
    }
   ],
   "source": [
    "confusion_matrix = metrics.confusion_matrix(model_results_frame['RETURN_REASON_CODE'], model_results_frame['Predicted_Reason'])\n",
    "cm_display = metrics.ConfusionMatrixDisplay(confusion_matrix = confusion_matrix)\n",
    "\n",
    "cm_display.plot()\n",
    "plt.show()"
   ]
  },
  {
   "cell_type": "code",
   "execution_count": 14,
   "id": "8646763d",
   "metadata": {},
   "outputs": [
    {
     "data": {
      "text/plain": [
       "0.3763440860215054"
      ]
     },
     "execution_count": 14,
     "metadata": {},
     "output_type": "execute_result"
    }
   ],
   "source": [
    "metrics.accuracy_score(model_results_frame['RETURN_REASON_CODE'], model_results_frame['Predicted_Reason'])"
   ]
  }
 ],
 "metadata": {
  "kernelspec": {
   "display_name": ".venv",
   "language": "python",
   "name": "python3"
  },
  "language_info": {
   "codemirror_mode": {
    "name": "ipython",
    "version": 3
   },
   "file_extension": ".py",
   "mimetype": "text/x-python",
   "name": "python",
   "nbconvert_exporter": "python",
   "pygments_lexer": "ipython3",
   "version": "3.13.4"
  }
 },
 "nbformat": 4,
 "nbformat_minor": 5
}
